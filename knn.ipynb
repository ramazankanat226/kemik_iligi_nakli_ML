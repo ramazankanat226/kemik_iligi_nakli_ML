{
 "cells": [
  {
   "cell_type": "code",
   "execution_count": 78,
   "id": "ed00bdec-4896-40bd-8390-f0f21dbb0fa6",
   "metadata": {},
   "outputs": [],
   "source": [
    "import numpy as np\n",
    "import pandas as pd\n",
    "# Veriyi yükle\n",
    "df = pd.read_csv(\"temizlenmis_veri.csv\")"
   ]
  },
  {
   "cell_type": "code",
   "execution_count": 80,
   "id": "9c440702-ae74-416a-92fa-e88af3d6f547",
   "metadata": {},
   "outputs": [],
   "source": [
    "from sklearn.preprocessing import StandardScaler\n",
    "from sklearn.impute import SimpleImputer\n",
    "# Hedef değişken ve özellikler\n",
    "X = df.drop(columns=['survival_status'])\n",
    "y = df['survival_status']\n",
    "# \"survival time\" sütununu sil\n",
    "if 'survival time' in df.columns:\n",
    "    df = df.drop(columns=['survival time'])\n",
    "\n",
    "# '?' karakterlerini NaN yap\n",
    "X = df.drop(columns=['survival_status']).replace('?', pd.NA)\n",
    "y = df['survival_status']\n",
    "\n",
    "X = pd.get_dummies(X)\n",
    "\n",
    "# Eksik verileri ortalama ile dolduralım\n",
    "imputer = SimpleImputer(strategy='mean')\n",
    "X_imputed = imputer.fit_transform(X)\n",
    "\n",
    "# Verileri ölçeklendirelim\n",
    "scaler = StandardScaler()\n",
    "X_scaled = scaler.fit_transform(X_imputed)\n"
   ]
  },
  {
   "cell_type": "code",
   "execution_count": 82,
   "id": "56be619b-0f78-4f72-99a0-40abde4ed66f",
   "metadata": {},
   "outputs": [],
   "source": [
    "from sklearn.model_selection import train_test_split\n",
    "from sklearn.neighbors import KNeighborsClassifier\n",
    "# Veriyi eğitim ve test olarak ayır\n",
    "X_train, X_test, y_train, y_test = train_test_split(X_scaled, y, test_size=0.2, random_state=42)\n",
    "\n",
    "# KNN modeli\n",
    "knn_model = KNeighborsClassifier(n_neighbors=5)\n",
    "knn_model.fit(X_train, y_train)\n",
    "\n",
    "# Test verisiyle tahmin yap\n",
    "y_pred = knn_model.predict(X_test)"
   ]
  },
  {
   "cell_type": "code",
   "execution_count": 84,
   "id": "87f59c73-8cde-4711-a84e-b1fb6923c736",
   "metadata": {},
   "outputs": [
    {
     "name": "stdout",
     "output_type": "stream",
     "text": [
      "KNN doğruluk oranı: %71.05\n"
     ]
    }
   ],
   "source": [
    "from sklearn.metrics import accuracy_score\n",
    "# Doğruluk oranını hesapla\n",
    "accuracy = accuracy_score(y_test, y_pred)\n",
    "print(f\"KNN doğruluk oranı: %{accuracy * 100:.2f}\")\n"
   ]
  },
  {
   "cell_type": "code",
   "execution_count": 86,
   "id": "5b0edd90-ff5a-4b82-ab66-7bd457f69214",
   "metadata": {},
   "outputs": [
    {
     "data": {
      "image/png": "[encoded data removed]",
      "text/plain": [
       "<Figure size 640x480 with 2 Axes>"
      ]
     },
     "metadata": {},
     "output_type": "display_data"
    }
   ],
   "source": [
    "from sklearn.metrics import confusion_matrix, ConfusionMatrixDisplay\n",
    "import matplotlib.pyplot as plt\n",
    "\n",
    "cm = confusion_matrix(y_test, y_pred)\n",
    "disp = ConfusionMatrixDisplay(confusion_matrix=cm, display_labels=knn_model.classes_)\n",
    "disp.plot(cmap=plt.cm.Blues)\n",
    "plt.title(\"Confusion Matrix\")\n",
    "plt.show()"
   ]
  },
  {
   "cell_type": "code",
   "execution_count": 88,
   "id": "05289a05-7242-4910-a4fa-5ee2019a30f3",
   "metadata": {},
   "outputs": [],
   "source": [
    "import pickle\n",
    "# Modeli pickle ile kaydet\n",
    "save_data = {\n",
    "    'model': knn_model,\n",
    "    'feature_names': X.columns.tolist()\n",
    "}\n",
    "# Modeli kaydet\n",
    "with open('KNN_model.pkl', 'wb') as f:\n",
    "    pickle.dump(save_data, f)"
   ]
  },
  {
   "cell_type": "code",
   "execution_count": null,
   "id": "eecbbda2-a4ac-4aa3-b884-b23a6b883578",
   "metadata": {},
   "outputs": [],
   "source": []
  }
 ],
 "metadata": {
  "kernelspec": {
   "display_name": "Python 3 (ipykernel)",
   "language": "python",
   "name": "python3"
  },
  "language_info": {
   "codemirror_mode": {
    "name": "ipython",
    "version": 3
   },
   "file_extension": ".py",
   "mimetype": "text/x-python",
   "name": "python",
   "nbconvert_exporter": "python",
   "pygments_lexer": "ipython3",
   "version": "3.12.7"
  }
 },
 "nbformat": 4,
 "nbformat_minor": 5
}
