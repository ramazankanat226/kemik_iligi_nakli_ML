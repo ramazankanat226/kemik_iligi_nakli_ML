{
 "cells": [
  {
   "cell_type": "code",
   "execution_count": 58,
   "id": "aa570a06-e442-4504-b28e-b57ee1a3250d",
   "metadata": {},
   "outputs": [],
   "source": [
    "import pandas as pd\n",
    "import numpy as np\n",
    "\n",
    "data = pd.read_csv(\"temizlenmis_veri.csv\") \n",
    "\n",
    "# Adım 2: Eksik verileri temizle (\"?\" olanları NaN yap ve satırları at)\n",
    "data = data.replace(\"?\", np.nan).dropna()\n",
    "\n",
    "# Adım 3: Sayısal olmayan değişkenleri sayısal hale getir (one-hot encoding)\n",
    "data = pd.get_dummies(data)\n",
    "\n"
   ]
  },
  {
   "cell_type": "code",
   "execution_count": 60,
   "id": "b4cd9107-e12e-4194-988a-bf834f99cb00",
   "metadata": {},
   "outputs": [],
   "source": [
    "from sklearn.model_selection import train_test_split\n",
    "\n",
    "# Adım 4: Bağımlı ve bağımsız değişkenleri ayır\n",
    "# Burada hedef değişken 'survival_status'\n",
    "y = data['survival_status']\n",
    "data = data.drop(columns=[\"survival_time\"])\n",
    "X = data.drop(['survival_status'], axis=1, errors='ignore')\n",
    "\n",
    "# Adım 5: Veriyi eğitim ve test setlerine ayır (70% eğitim, 30% test)\n",
    "X_train, X_test, y_train, y_test = train_test_split(X, y, test_size=0.3, random_state=42)"
   ]
  },
  {
   "cell_type": "code",
   "execution_count": 62,
   "id": "2b4e4f60-8759-4bb3-96cd-cb1b22a7f385",
   "metadata": {},
   "outputs": [
    {
     "name": "stderr",
     "output_type": "stream",
     "text": [
      "C:\\Users\\USER\\anaconda3\\Lib\\site-packages\\sklearn\\linear_model\\_logistic.py:469: ConvergenceWarning: lbfgs failed to converge (status=1):\n",
      "STOP: TOTAL NO. of ITERATIONS REACHED LIMIT.\n",
      "\n",
      "Increase the number of iterations (max_iter) or scale the data as shown in:\n",
      "    https://scikit-learn.org/stable/modules/preprocessing.html\n",
      "Please also refer to the documentation for alternative solver options:\n",
      "    https://scikit-learn.org/stable/modules/linear_model.html#logistic-regression\n",
      "  n_iter_i = _check_optimize_result(\n"
     ]
    }
   ],
   "source": [
    "from sklearn.linear_model import LogisticRegression\n",
    "\n",
    "# Adım 6: Lojistik regresyon modelini kur ve eğit\n",
    "lr_model = LogisticRegression(max_iter=1000)  # max_iter artırılarak eğitim tamamlanması sağlanır\n",
    "lr_model.fit(X_train, y_train)\n",
    "# Adım 7: Test verisi ile tahmin yap\n",
    "y_pred = lr_model.predict(X_test)"
   ]
  },
  {
   "cell_type": "code",
   "execution_count": 66,
   "id": "22f3e295-93e2-400b-adfd-1551d397fe0a",
   "metadata": {},
   "outputs": [
    {
     "name": "stdout",
     "output_type": "stream",
     "text": [
      "Doğruluk Oranı (Accuracy): % 69.77\n"
     ]
    }
   ],
   "source": [
    "from sklearn.metrics import accuracy_score\n",
    "\n",
    "accuracy = accuracy_score(y_test, y_pred)\n",
    "print(\"Doğruluk Oranı (Accuracy): %\", round(accuracy * 100, 2))"
   ]
  },
  {
   "cell_type": "code",
   "execution_count": 48,
   "id": "72327c1f-3e16-4c1e-a217-83fd6d2aafdf",
   "metadata": {},
   "outputs": [
    {
     "data": {
      "image/png": "[encoded data removed]",
      "text/plain": [
       "<Figure size 640x480 with 2 Axes>"
      ]
     },
     "metadata": {},
     "output_type": "display_data"
    }
   ],
   "source": [
    "from sklearn.metrics import confusion_matrix, ConfusionMatrixDisplay\n",
    "import matplotlib.pyplot as plt\n",
    "\n",
    "cm = confusion_matrix(y_test, y_pred)\n",
    "disp = ConfusionMatrixDisplay(confusion_matrix=cm, display_labels=log_model.classes_)\n",
    "disp.plot(cmap=plt.cm.Blues)\n",
    "plt.title(\"Confusion Matrix\")\n",
    "plt.show()"
   ]
  },
  {
   "cell_type": "code",
   "execution_count": 50,
   "id": "ebb89567-2f19-49f9-b0fb-4ff0f83cab08",
   "metadata": {},
   "outputs": [],
   "source": [
    "import pickle\n",
    "\n",
    "# Modeli kaydet\n",
    "with open(\"linear_regression_model.pkl\", \"wb\") as f:\n",
    "    pickle.dump(log_model, f)"
   ]
  },
  {
   "cell_type": "code",
   "execution_count": null,
   "id": "54fc2bd7-5394-49d5-b213-05e4e65e97b5",
   "metadata": {},
   "outputs": [],
   "source": []
  }
 ],
 "metadata": {
  "kernelspec": {
   "display_name": "Python 3 (ipykernel)",
   "language": "python",
   "name": "python3"
  },
  "language_info": {
   "codemirror_mode": {
    "name": "ipython",
    "version": 3
   },
   "file_extension": ".py",
   "mimetype": "text/x-python",
   "name": "python",
   "nbconvert_exporter": "python",
   "pygments_lexer": "ipython3",
   "version": "3.12.7"
  }
 },
 "nbformat": 4,
 "nbformat_minor": 5
}
